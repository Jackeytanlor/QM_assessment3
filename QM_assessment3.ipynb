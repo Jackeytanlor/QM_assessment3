{
 "cells": [
  {
   "cell_type": "code",
   "execution_count": 1,
   "id": "20531c2e-48af-4b36-becf-6e8af9cae650",
   "metadata": {},
   "outputs": [],
   "source": [
    "import geopandas as gpd\n",
    "import pandas as pd\n",
    "import numpy as np\n",
    "import matplotlib.pyplot as plt\n",
    "import rasterio\n",
    "import rasterstats\n",
    "from rasterio.plot import show\n",
    "from rasterio.plot import show_hist\n",
    "\n",
    "import os\n",
    "import matplotlib.cm as cm\n",
    "import matplotlib.pyplot as plt\n",
    "import seaborn as sns\n",
    "import pyproj\n",
    "\n",
    "from sklearn.linear_model import LinearRegression\n",
    "import statsmodels.api as sm\n",
    "\n",
    "import sklearn\n",
    "from sklearn.linear_model import LogisticRegression\n",
    "from sklearn.metrics import confusion_matrix\n",
    "\n",
    "\n",
    "pd.set_option('display.max_rows', 300) \n",
    "pd.options.display.float_format = '{:40,.4f}'.format \n",
    "plt.style.use('ggplot') "
   ]
  },
  {
   "cell_type": "markdown",
   "id": "0605e541-a5d3-4d0c-9418-acb1bdbf0f8b",
   "metadata": {},
   "source": [
    "# Data preparation"
   ]
  },
  {
   "cell_type": "markdown",
   "id": "a87f58cf-0c5a-4f5f-88bf-d76d98a4937b",
   "metadata": {},
   "source": [
    "## Import spatial data from LSOA level"
   ]
  },
  {
   "cell_type": "code",
   "execution_count": 2,
   "id": "7a13e5d4-ac12-4f0b-8295-bd8e841656a8",
   "metadata": {},
   "outputs": [
    {
     "name": "stderr",
     "output_type": "stream",
     "text": [
      "/opt/conda/envs/sds2021/lib/python3.9/site-packages/geopandas/geodataframe.py:577: RuntimeWarning: Sequential read of iterator was interrupted. Resetting iterator. This can negatively impact the performance.\n",
      "  for feature in features_lst:\n"
     ]
    }
   ],
   "source": [
    "districts = gpd.read_file('https://github.com/Jackeytanlor/QM_assessment3/blob/main/LSOA.gpkg?raw=true', driver=\"GPKG\")"
   ]
  },
  {
   "cell_type": "code",
   "execution_count": 3,
   "id": "a6b5033a-42d4-4a14-ab09-3eb8c0d60350",
   "metadata": {},
   "outputs": [
    {
     "data": {
      "text/html": [
       "<div>\n",
       "<style scoped>\n",
       "    .dataframe tbody tr th:only-of-type {\n",
       "        vertical-align: middle;\n",
       "    }\n",
       "\n",
       "    .dataframe tbody tr th {\n",
       "        vertical-align: top;\n",
       "    }\n",
       "\n",
       "    .dataframe thead th {\n",
       "        text-align: right;\n",
       "    }\n",
       "</style>\n",
       "<table border=\"1\" class=\"dataframe\">\n",
       "  <thead>\n",
       "    <tr style=\"text-align: right;\">\n",
       "      <th></th>\n",
       "      <th>LSOA11CD</th>\n",
       "      <th>LSOA11NM</th>\n",
       "      <th>MSOA11CD</th>\n",
       "      <th>MSOA11NM</th>\n",
       "      <th>LAD11CD</th>\n",
       "      <th>LAD11NM</th>\n",
       "      <th>RGN11CD</th>\n",
       "      <th>RGN11NM</th>\n",
       "      <th>USUALRES</th>\n",
       "      <th>HHOLDRES</th>\n",
       "      <th>COMESTRES</th>\n",
       "      <th>POPDEN</th>\n",
       "      <th>HHOLDS</th>\n",
       "      <th>AVHHOLDSZ</th>\n",
       "      <th>area</th>\n",
       "      <th>geometry</th>\n",
       "    </tr>\n",
       "  </thead>\n",
       "  <tbody>\n",
       "    <tr>\n",
       "      <th>0</th>\n",
       "      <td>E01000001</td>\n",
       "      <td>City of London 001A</td>\n",
       "      <td>E02000001</td>\n",
       "      <td>City of London 001</td>\n",
       "      <td>E09000001</td>\n",
       "      <td>City of London</td>\n",
       "      <td>E12000007</td>\n",
       "      <td>London</td>\n",
       "      <td>1465</td>\n",
       "      <td>1465</td>\n",
       "      <td>0</td>\n",
       "      <td>112.9000</td>\n",
       "      <td>876</td>\n",
       "      <td>1.7000</td>\n",
       "      <td>0.1333</td>\n",
       "      <td>MULTIPOLYGON (((532105.092 182011.230, 532162....</td>\n",
       "    </tr>\n",
       "    <tr>\n",
       "      <th>1</th>\n",
       "      <td>E01000002</td>\n",
       "      <td>City of London 001B</td>\n",
       "      <td>E02000001</td>\n",
       "      <td>City of London 001</td>\n",
       "      <td>E09000001</td>\n",
       "      <td>City of London</td>\n",
       "      <td>E12000007</td>\n",
       "      <td>London</td>\n",
       "      <td>1436</td>\n",
       "      <td>1436</td>\n",
       "      <td>0</td>\n",
       "      <td>62.9000</td>\n",
       "      <td>830</td>\n",
       "      <td>1.7000</td>\n",
       "      <td>0.2262</td>\n",
       "      <td>MULTIPOLYGON (((532746.813 181786.891, 532671....</td>\n",
       "    </tr>\n",
       "    <tr>\n",
       "      <th>2</th>\n",
       "      <td>E01000003</td>\n",
       "      <td>City of London 001C</td>\n",
       "      <td>E02000001</td>\n",
       "      <td>City of London 001</td>\n",
       "      <td>E09000001</td>\n",
       "      <td>City of London</td>\n",
       "      <td>E12000007</td>\n",
       "      <td>London</td>\n",
       "      <td>1346</td>\n",
       "      <td>1250</td>\n",
       "      <td>96</td>\n",
       "      <td>227.7000</td>\n",
       "      <td>817</td>\n",
       "      <td>1.5000</td>\n",
       "      <td>0.0573</td>\n",
       "      <td>MULTIPOLYGON (((532135.145 182198.119, 532158....</td>\n",
       "    </tr>\n",
       "    <tr>\n",
       "      <th>3</th>\n",
       "      <td>E01000005</td>\n",
       "      <td>City of London 001E</td>\n",
       "      <td>E02000001</td>\n",
       "      <td>City of London 001</td>\n",
       "      <td>E09000001</td>\n",
       "      <td>City of London</td>\n",
       "      <td>E12000007</td>\n",
       "      <td>London</td>\n",
       "      <td>985</td>\n",
       "      <td>985</td>\n",
       "      <td>0</td>\n",
       "      <td>52.0000</td>\n",
       "      <td>467</td>\n",
       "      <td>2.1000</td>\n",
       "      <td>0.1907</td>\n",
       "      <td>MULTIPOLYGON (((533807.946 180767.770, 533649....</td>\n",
       "    </tr>\n",
       "    <tr>\n",
       "      <th>4</th>\n",
       "      <td>E01000006</td>\n",
       "      <td>Barking and Dagenham 016A</td>\n",
       "      <td>E02000017</td>\n",
       "      <td>Barking and Dagenham 016</td>\n",
       "      <td>E09000002</td>\n",
       "      <td>Barking and Dagenham</td>\n",
       "      <td>E12000007</td>\n",
       "      <td>London</td>\n",
       "      <td>1703</td>\n",
       "      <td>1699</td>\n",
       "      <td>4</td>\n",
       "      <td>116.2000</td>\n",
       "      <td>543</td>\n",
       "      <td>3.1000</td>\n",
       "      <td>0.1442</td>\n",
       "      <td>MULTIPOLYGON (((545122.049 184314.931, 545271....</td>\n",
       "    </tr>\n",
       "  </tbody>\n",
       "</table>\n",
       "</div>"
      ],
      "text/plain": [
       "    LSOA11CD                   LSOA11NM   MSOA11CD                  MSOA11NM  \\\n",
       "0  E01000001        City of London 001A  E02000001        City of London 001   \n",
       "1  E01000002        City of London 001B  E02000001        City of London 001   \n",
       "2  E01000003        City of London 001C  E02000001        City of London 001   \n",
       "3  E01000005        City of London 001E  E02000001        City of London 001   \n",
       "4  E01000006  Barking and Dagenham 016A  E02000017  Barking and Dagenham 016   \n",
       "\n",
       "     LAD11CD               LAD11NM    RGN11CD RGN11NM  USUALRES  HHOLDRES  \\\n",
       "0  E09000001        City of London  E12000007  London      1465      1465   \n",
       "1  E09000001        City of London  E12000007  London      1436      1436   \n",
       "2  E09000001        City of London  E12000007  London      1346      1250   \n",
       "3  E09000001        City of London  E12000007  London       985       985   \n",
       "4  E09000002  Barking and Dagenham  E12000007  London      1703      1699   \n",
       "\n",
       "   COMESTRES                                   POPDEN  HHOLDS  \\\n",
       "0          0                                 112.9000     876   \n",
       "1          0                                  62.9000     830   \n",
       "2         96                                 227.7000     817   \n",
       "3          0                                  52.0000     467   \n",
       "4          4                                 116.2000     543   \n",
       "\n",
       "                                 AVHHOLDSZ  \\\n",
       "0                                   1.7000   \n",
       "1                                   1.7000   \n",
       "2                                   1.5000   \n",
       "3                                   2.1000   \n",
       "4                                   3.1000   \n",
       "\n",
       "                                      area  \\\n",
       "0                                   0.1333   \n",
       "1                                   0.2262   \n",
       "2                                   0.0573   \n",
       "3                                   0.1907   \n",
       "4                                   0.1442   \n",
       "\n",
       "                                            geometry  \n",
       "0  MULTIPOLYGON (((532105.092 182011.230, 532162....  \n",
       "1  MULTIPOLYGON (((532746.813 181786.891, 532671....  \n",
       "2  MULTIPOLYGON (((532135.145 182198.119, 532158....  \n",
       "3  MULTIPOLYGON (((533807.946 180767.770, 533649....  \n",
       "4  MULTIPOLYGON (((545122.049 184314.931, 545271....  "
      ]
     },
     "execution_count": 3,
     "metadata": {},
     "output_type": "execute_result"
    }
   ],
   "source": [
    "districts.head()"
   ]
  },
  {
   "cell_type": "code",
   "execution_count": 4,
   "id": "4d8ebbde-e35a-43af-854b-eb9622bc1a4b",
   "metadata": {},
   "outputs": [
    {
     "data": {
      "text/plain": [
       "<AxesSubplot:>"
      ]
     },
     "execution_count": 4,
     "metadata": {},
     "output_type": "execute_result"
    },
    {
     "data": {
      "image/png": "[encoded data removed]",
      "text/plain": [
       "<Figure size 432x288 with 1 Axes>"
      ]
     },
     "metadata": {},
     "output_type": "display_data"
    }
   ],
   "source": [
    "districts.plot()"
   ]
  },
  {
   "cell_type": "markdown",
   "id": "25068fc8-2f38-4acf-b51d-fdfbd1babfcb",
   "metadata": {},
   "source": [
    "## Zonal statistics from the raster dataset"
   ]
  },
  {
   "cell_type": "markdown",
   "id": "e2c4c770-ccc9-4612-b3d3-8fd5c3f7f036",
   "metadata": {},
   "source": [
    "### Import air quality data and do the zonal statistics proccess\n",
    "***As tiff data is difficult to access via github, only the code is shown, the full data can be found in the onedrive link***\n",
    "https://liveuclac-my.sharepoint.com/:f:/r/personal/ucfnanx_ucl_ac_uk/Documents/Air_quality_tif?csf=1&web=1&e=MRwri5"
   ]
  },
  {
   "cell_type": "markdown",
   "id": "f75d4615-cd21-46a0-92e8-24c0d10a6d43",
   "metadata": {},
   "source": [
    "#### NO2"
   ]
  },
  {
   "cell_type": "code",
   "execution_count": 5,
   "id": "b9a765f4-0585-4ca7-af92-dc00ef844043",
   "metadata": {
    "tags": []
   },
   "outputs": [],
   "source": [
    "# NO2 = rasterio.open(\"data_gis/NO2.tif\")\n",
    "# NO2_data=NO2.read(1)\n",
    "# affineNO2 = NO2.transform\n",
    "# avg_NO2 = rasterstats.zonal_stats(districts,NO2_data,affine=affineNO2,stats=['mean'],dataframe=True)\n",
    "# pd_NO2=pd.DataFrame(avg_NO2,columns=[\"mean\"])\n",
    "# NO2_re=pd_NO2.rename(columns={\"mean\":\"NO2\"})\n",
    "# districts=districts.join(NO2_re)\n"
   ]
  },
  {
   "cell_type": "markdown",
   "id": "07b0c2b8-880a-4861-98c9-84b4b855fb9a",
   "metadata": {},
   "source": [
    "#### NOx"
   ]
  },
  {
   "cell_type": "code",
   "execution_count": 6,
   "id": "144c6021-877c-48d2-8c23-636898a95f81",
   "metadata": {},
   "outputs": [],
   "source": [
    "# NOx = rasterio.open(\"data_gis/NOx.tif\")\n",
    "# NOx_data=NOx.read(1)\n",
    "# affineNOx = NOx.transform\n",
    "# avg_NOx = rasterstats.zonal_stats(districts,NOx_data,affine=affineNOx,stats=['mean'],dataframe=True)\n",
    "# pd_NOx=pd.DataFrame(avg_NOx,columns=[\"mean\"])\n",
    "# NOx_re=pd_NOx.rename(columns={\"mean\":\"NOx\"})\n",
    "# districts=districts.join(NOx_re)"
   ]
  },
  {
   "cell_type": "markdown",
   "id": "acf8abb0-04d1-4c5d-bbdf-0660cfc6cf25",
   "metadata": {},
   "source": [
    "#### PM25"
   ]
  },
  {
   "cell_type": "code",
   "execution_count": 7,
   "id": "0aacd989-09e3-4d21-be2c-e32c13bfa6fc",
   "metadata": {},
   "outputs": [],
   "source": [
    "# PM25 = rasterio.open(\"data_gis/PM25.tif\")\n",
    "# PM25_data=PM25.read(1)\n",
    "# affinePM25 = PM25.transform\n",
    "# avg_PM25 = rasterstats.zonal_stats(districts,PM25_data,affine=affinePM25,stats=['mean'],dataframe=True)\n",
    "# pd_PM25=pd.DataFrame(avg_PM25,columns=[\"mean\"])\n",
    "# PM25_re=pd_PM25.rename(columns={\"mean\":\"PM25\"})\n",
    "# districts=districts.join(PM25_re)"
   ]
  },
  {
   "cell_type": "markdown",
   "id": "595df423-8c18-4d28-b0ed-42c047f984dc",
   "metadata": {},
   "source": [
    "#### PM10"
   ]
  },
  {
   "cell_type": "code",
   "execution_count": 8,
   "id": "190eaf30-be4b-465e-ba80-625d178f1426",
   "metadata": {},
   "outputs": [],
   "source": [
    "# PM10 = rasterio.open(\"data_gis/PM10.tif\")\n",
    "# PM10_data=PM10.read(1)\n",
    "# affinePM10 = PM10.transform\n",
    "# avg_PM10 = rasterstats.zonal_stats(districts,PM10_data,affine=affinePM10,stats=['mean'],dataframe=True)\n",
    "# pd_PM10=pd.DataFrame(avg_PM10,columns=[\"mean\"])\n",
    "# PM10_re=pd_PM10.rename(columns={\"mean\":\"PM10\"})\n",
    "# districts=districts.join(PM10_re)"
   ]
  },
  {
   "cell_type": "markdown",
   "id": "e6ce13f1-5541-47be-b41b-bac4b3f32aef",
   "metadata": {},
   "source": [
    "## Merge and clean the dataset"
   ]
  },
  {
   "cell_type": "code",
   "execution_count": 9,
   "id": "d4bc565e-f32c-4c0f-af38-e078ceba9d7e",
   "metadata": {},
   "outputs": [],
   "source": [
    "# print(list(districts.columns.values))"
   ]
  },
  {
   "cell_type": "code",
   "execution_count": 10,
   "id": "4530a918-78f2-4d70-a34d-e8644ce63690",
   "metadata": {},
   "outputs": [],
   "source": [
    "# col=['LSOA11CD', 'LSOA11NM', 'MSOA11CD', 'MSOA11NM', 'LAD11CD', 'LAD11NM', \"area\",'NO2', 'NOx', 'PM25', 'PM10']"
   ]
  },
  {
   "cell_type": "code",
   "execution_count": 11,
   "id": "cbb843ee-ea59-4ed3-8eed-0a0abb0014ba",
   "metadata": {},
   "outputs": [],
   "source": [
    "# LSOA=districts[col]"
   ]
  },
  {
   "cell_type": "code",
   "execution_count": 12,
   "id": "9a715808-615e-4562-85c4-fe4b9d9cfa58",
   "metadata": {},
   "outputs": [],
   "source": [
    "LSOA=pd.read_csv(\"https://github.com/Jackeytanlor/QM_assessment3/raw/main/LSOA.csv\")"
   ]
  },
  {
   "cell_type": "markdown",
   "id": "84e171bf-b610-4e43-bf7f-5b57658a0c6a",
   "metadata": {},
   "source": [
    "## Calculate the necessary indicators from air quality"
   ]
  },
  {
   "cell_type": "markdown",
   "id": "1a785eae-cc56-4b40-b824-bbab15fcfe2b",
   "metadata": {},
   "source": [
    "### Calculate the synthetic air quality index"
   ]
  },
  {
   "cell_type": "code",
   "execution_count": 13,
   "id": "8e6baea8-b817-4ef3-8f7e-d92344d30aae",
   "metadata": {},
   "outputs": [],
   "source": [
    "NO2_min=min(LSOA[\"NO2\"])\n",
    "NOx_min=min(LSOA[\"NOx\"])\n",
    "PM10_min=min(LSOA[\"PM10\"])\n",
    "PM25_min=min(LSOA[\"PM25\"])"
   ]
  },
  {
   "cell_type": "code",
   "execution_count": 14,
   "id": "40ee7812-124e-46d0-973f-06200af91a3c",
   "metadata": {},
   "outputs": [],
   "source": [
    "LSOA[\"AQ\"]=(NO2_min/LSOA[\"NO2\"]+NOx_min/LSOA[\"NOx\"]+PM25_min/LSOA[\"PM25\"]+PM10_min/LSOA[\"PM10\"])*100"
   ]
  },
  {
   "cell_type": "markdown",
   "id": "dbe17b82-f202-489e-bf92-9db3fd4d7d36",
   "metadata": {},
   "source": [
    "## Import IMD and Population dataset and merge the dataset"
   ]
  },
  {
   "cell_type": "code",
   "execution_count": 15,
   "id": "9f11bf34-d758-42d0-b14a-8a6940c8769f",
   "metadata": {},
   "outputs": [],
   "source": [
    "imd=pd.read_csv(\"https://github.com/Jackeytanlor/QM_assessment3/raw/main/IMD.csv\")\n",
    "population=pd.read_csv(\"https://github.com/Jackeytanlor/QM_assessment3/blob/main/population.csv?raw=true\")"
   ]
  },
  {
   "cell_type": "code",
   "execution_count": 16,
   "id": "37515780-7694-4bde-a280-56003e7c9ec1",
   "metadata": {},
   "outputs": [],
   "source": [
    "imd_index=imd.set_index(\"LSOA code\")\n",
    "population_index=population.set_index(\"LSOA Code\")"
   ]
  },
  {
   "cell_type": "code",
   "execution_count": 17,
   "id": "fcfb46fa-3e14-4c25-87f4-eaa3fe0a069c",
   "metadata": {
    "tags": []
   },
   "outputs": [],
   "source": [
    "LSOA=LSOA.join(imd_index,on='LSOA11CD')\n",
    "LSOA=LSOA.join(population_index,on=\"LSOA11CD\")"
   ]
  },
  {
   "cell_type": "code",
   "execution_count": 18,
   "id": "e479d987-dc01-4ade-81e5-92e1ce8faf8d",
   "metadata": {},
   "outputs": [
    {
     "data": {
      "text/html": [
       "<div>\n",
       "<style scoped>\n",
       "    .dataframe tbody tr th:only-of-type {\n",
       "        vertical-align: middle;\n",
       "    }\n",
       "\n",
       "    .dataframe tbody tr th {\n",
       "        vertical-align: top;\n",
       "    }\n",
       "\n",
       "    .dataframe thead th {\n",
       "        text-align: right;\n",
       "    }\n",
       "</style>\n",
       "<table border=\"1\" class=\"dataframe\">\n",
       "  <thead>\n",
       "    <tr style=\"text-align: right;\">\n",
       "      <th></th>\n",
       "      <th>Unnamed: 0</th>\n",
       "      <th>LSOA11CD</th>\n",
       "      <th>LSOA11NM</th>\n",
       "      <th>MSOA11CD</th>\n",
       "      <th>MSOA11NM</th>\n",
       "      <th>LAD11CD</th>\n",
       "      <th>LAD11NM</th>\n",
       "      <th>area</th>\n",
       "      <th>NO2</th>\n",
       "      <th>NOx</th>\n",
       "      <th>...</th>\n",
       "      <th>Housing</th>\n",
       "      <th>Housing_R</th>\n",
       "      <th>Living</th>\n",
       "      <th>Living_R</th>\n",
       "      <th>population</th>\n",
       "      <th>old</th>\n",
       "      <th>median_age</th>\n",
       "      <th>male</th>\n",
       "      <th>male_pop</th>\n",
       "      <th>old_pop</th>\n",
       "    </tr>\n",
       "  </thead>\n",
       "  <tbody>\n",
       "    <tr>\n",
       "      <th>0</th>\n",
       "      <td>0</td>\n",
       "      <td>E01000001</td>\n",
       "      <td>City of London 001A</td>\n",
       "      <td>E02000001</td>\n",
       "      <td>City of London 001</td>\n",
       "      <td>E09000001</td>\n",
       "      <td>City of London</td>\n",
       "      <td>0.1333</td>\n",
       "      <td>42.8867</td>\n",
       "      <td>80.4997</td>\n",
       "      <td>...</td>\n",
       "      <td>29.4720</td>\n",
       "      <td>3</td>\n",
       "      <td>31.8730</td>\n",
       "      <td>3</td>\n",
       "      <td>1,636.0000</td>\n",
       "      <td>547.0000</td>\n",
       "      <td>49.2000</td>\n",
       "      <td>886.0000</td>\n",
       "      <td>0.5400</td>\n",
       "      <td>0.3300</td>\n",
       "    </tr>\n",
       "    <tr>\n",
       "      <th>1</th>\n",
       "      <td>1</td>\n",
       "      <td>E01000002</td>\n",
       "      <td>City of London 001B</td>\n",
       "      <td>E02000001</td>\n",
       "      <td>City of London 001</td>\n",
       "      <td>E09000001</td>\n",
       "      <td>City of London</td>\n",
       "      <td>0.2262</td>\n",
       "      <td>38.8113</td>\n",
       "      <td>67.6093</td>\n",
       "      <td>...</td>\n",
       "      <td>24.4120</td>\n",
       "      <td>4</td>\n",
       "      <td>23.0840</td>\n",
       "      <td>4</td>\n",
       "      <td>1,558.0000</td>\n",
       "      <td>482.0000</td>\n",
       "      <td>47.3000</td>\n",
       "      <td>815.0000</td>\n",
       "      <td>0.5200</td>\n",
       "      <td>0.3100</td>\n",
       "    </tr>\n",
       "    <tr>\n",
       "      <th>2</th>\n",
       "      <td>2</td>\n",
       "      <td>E01000003</td>\n",
       "      <td>City of London 001C</td>\n",
       "      <td>E02000001</td>\n",
       "      <td>City of London 001</td>\n",
       "      <td>E09000001</td>\n",
       "      <td>City of London</td>\n",
       "      <td>0.0573</td>\n",
       "      <td>38.8682</td>\n",
       "      <td>67.8867</td>\n",
       "      <td>...</td>\n",
       "      <td>40.1030</td>\n",
       "      <td>1</td>\n",
       "      <td>40.5350</td>\n",
       "      <td>2</td>\n",
       "      <td>1,786.0000</td>\n",
       "      <td>518.0000</td>\n",
       "      <td>47.1000</td>\n",
       "      <td>931.0000</td>\n",
       "      <td>0.5200</td>\n",
       "      <td>0.2900</td>\n",
       "    </tr>\n",
       "    <tr>\n",
       "      <th>3</th>\n",
       "      <td>3</td>\n",
       "      <td>E01000005</td>\n",
       "      <td>City of London 001E</td>\n",
       "      <td>E02000001</td>\n",
       "      <td>City of London 001</td>\n",
       "      <td>E09000001</td>\n",
       "      <td>City of London</td>\n",
       "      <td>0.1907</td>\n",
       "      <td>39.9824</td>\n",
       "      <td>73.9456</td>\n",
       "      <td>...</td>\n",
       "      <td>39.9000</td>\n",
       "      <td>1</td>\n",
       "      <td>28.9790</td>\n",
       "      <td>3</td>\n",
       "      <td>1,888.0000</td>\n",
       "      <td>265.0000</td>\n",
       "      <td>25.7000</td>\n",
       "      <td>1,022.0000</td>\n",
       "      <td>0.5400</td>\n",
       "      <td>0.1400</td>\n",
       "    </tr>\n",
       "    <tr>\n",
       "      <th>4</th>\n",
       "      <td>4</td>\n",
       "      <td>E01000006</td>\n",
       "      <td>Barking and Dagenham 016A</td>\n",
       "      <td>E02000017</td>\n",
       "      <td>Barking and Dagenham 016</td>\n",
       "      <td>E09000002</td>\n",
       "      <td>Barking and Dagenham</td>\n",
       "      <td>0.1442</td>\n",
       "      <td>26.6189</td>\n",
       "      <td>40.2646</td>\n",
       "      <td>...</td>\n",
       "      <td>45.1710</td>\n",
       "      <td>1</td>\n",
       "      <td>26.8880</td>\n",
       "      <td>4</td>\n",
       "      <td>2,094.0000</td>\n",
       "      <td>247.0000</td>\n",
       "      <td>33.4000</td>\n",
       "      <td>1,072.0000</td>\n",
       "      <td>0.5100</td>\n",
       "      <td>0.1200</td>\n",
       "    </tr>\n",
       "    <tr>\n",
       "      <th>...</th>\n",
       "      <td>...</td>\n",
       "      <td>...</td>\n",
       "      <td>...</td>\n",
       "      <td>...</td>\n",
       "      <td>...</td>\n",
       "      <td>...</td>\n",
       "      <td>...</td>\n",
       "      <td>...</td>\n",
       "      <td>...</td>\n",
       "      <td>...</td>\n",
       "      <td>...</td>\n",
       "      <td>...</td>\n",
       "      <td>...</td>\n",
       "      <td>...</td>\n",
       "      <td>...</td>\n",
       "      <td>...</td>\n",
       "      <td>...</td>\n",
       "      <td>...</td>\n",
       "      <td>...</td>\n",
       "      <td>...</td>\n",
       "      <td>...</td>\n",
       "    </tr>\n",
       "    <tr>\n",
       "      <th>4830</th>\n",
       "      <td>4830</td>\n",
       "      <td>E01033742</td>\n",
       "      <td>Greenwich 007F</td>\n",
       "      <td>E02000319</td>\n",
       "      <td>Greenwich 007</td>\n",
       "      <td>E09000011</td>\n",
       "      <td>Greenwich</td>\n",
       "      <td>0.1233</td>\n",
       "      <td>25.5032</td>\n",
       "      <td>36.8238</td>\n",
       "      <td>...</td>\n",
       "      <td>40.5460</td>\n",
       "      <td>1</td>\n",
       "      <td>12.5140</td>\n",
       "      <td>7</td>\n",
       "      <td>1,738.0000</td>\n",
       "      <td>185.0000</td>\n",
       "      <td>35.0000</td>\n",
       "      <td>943.0000</td>\n",
       "      <td>0.5400</td>\n",
       "      <td>0.1100</td>\n",
       "    </tr>\n",
       "    <tr>\n",
       "      <th>4831</th>\n",
       "      <td>4831</td>\n",
       "      <td>E01033743</td>\n",
       "      <td>Greenwich 002H</td>\n",
       "      <td>E02000314</td>\n",
       "      <td>Greenwich 002</td>\n",
       "      <td>E09000011</td>\n",
       "      <td>Greenwich</td>\n",
       "      <td>1.0049</td>\n",
       "      <td>24.6078</td>\n",
       "      <td>35.2174</td>\n",
       "      <td>...</td>\n",
       "      <td>50.2930</td>\n",
       "      <td>1</td>\n",
       "      <td>11.9220</td>\n",
       "      <td>7</td>\n",
       "      <td>2,338.0000</td>\n",
       "      <td>171.0000</td>\n",
       "      <td>33.1000</td>\n",
       "      <td>1,169.0000</td>\n",
       "      <td>0.5000</td>\n",
       "      <td>0.0700</td>\n",
       "    </tr>\n",
       "    <tr>\n",
       "      <th>4832</th>\n",
       "      <td>4832</td>\n",
       "      <td>E01033744</td>\n",
       "      <td>Greenwich 007G</td>\n",
       "      <td>E02000319</td>\n",
       "      <td>Greenwich 007</td>\n",
       "      <td>E09000011</td>\n",
       "      <td>Greenwich</td>\n",
       "      <td>0.1523</td>\n",
       "      <td>26.8511</td>\n",
       "      <td>41.0677</td>\n",
       "      <td>...</td>\n",
       "      <td>37.3150</td>\n",
       "      <td>1</td>\n",
       "      <td>14.1740</td>\n",
       "      <td>7</td>\n",
       "      <td>1,815.0000</td>\n",
       "      <td>119.0000</td>\n",
       "      <td>33.8000</td>\n",
       "      <td>967.0000</td>\n",
       "      <td>0.5300</td>\n",
       "      <td>0.0700</td>\n",
       "    </tr>\n",
       "    <tr>\n",
       "      <th>4833</th>\n",
       "      <td>4833</td>\n",
       "      <td>E01033745</td>\n",
       "      <td>Greenwich 002I</td>\n",
       "      <td>E02000314</td>\n",
       "      <td>Greenwich 002</td>\n",
       "      <td>E09000011</td>\n",
       "      <td>Greenwich</td>\n",
       "      <td>0.5585</td>\n",
       "      <td>26.4817</td>\n",
       "      <td>41.0178</td>\n",
       "      <td>...</td>\n",
       "      <td>45.0600</td>\n",
       "      <td>1</td>\n",
       "      <td>14.8360</td>\n",
       "      <td>6</td>\n",
       "      <td>2,047.0000</td>\n",
       "      <td>172.0000</td>\n",
       "      <td>33.4000</td>\n",
       "      <td>1,046.0000</td>\n",
       "      <td>0.5100</td>\n",
       "      <td>0.0800</td>\n",
       "    </tr>\n",
       "    <tr>\n",
       "      <th>4834</th>\n",
       "      <td>4834</td>\n",
       "      <td>E01033746</td>\n",
       "      <td>Greenwich 038E</td>\n",
       "      <td>E02006931</td>\n",
       "      <td>Greenwich 038</td>\n",
       "      <td>E09000011</td>\n",
       "      <td>Greenwich</td>\n",
       "      <td>0.1290</td>\n",
       "      <td>29.2854</td>\n",
       "      <td>46.2206</td>\n",
       "      <td>...</td>\n",
       "      <td>23.9960</td>\n",
       "      <td>4</td>\n",
       "      <td>45.7280</td>\n",
       "      <td>1</td>\n",
       "      <td>1,393.0000</td>\n",
       "      <td>345.0000</td>\n",
       "      <td>40.8000</td>\n",
       "      <td>649.0000</td>\n",
       "      <td>0.4700</td>\n",
       "      <td>0.2500</td>\n",
       "    </tr>\n",
       "  </tbody>\n",
       "</table>\n",
       "<p>4835 rows × 36 columns</p>\n",
       "</div>"
      ],
      "text/plain": [
       "      Unnamed: 0   LSOA11CD                   LSOA11NM   MSOA11CD  \\\n",
       "0              0  E01000001        City of London 001A  E02000001   \n",
       "1              1  E01000002        City of London 001B  E02000001   \n",
       "2              2  E01000003        City of London 001C  E02000001   \n",
       "3              3  E01000005        City of London 001E  E02000001   \n",
       "4              4  E01000006  Barking and Dagenham 016A  E02000017   \n",
       "...          ...        ...                        ...        ...   \n",
       "4830        4830  E01033742             Greenwich 007F  E02000319   \n",
       "4831        4831  E01033743             Greenwich 002H  E02000314   \n",
       "4832        4832  E01033744             Greenwich 007G  E02000319   \n",
       "4833        4833  E01033745             Greenwich 002I  E02000314   \n",
       "4834        4834  E01033746             Greenwich 038E  E02006931   \n",
       "\n",
       "                      MSOA11NM    LAD11CD               LAD11NM  \\\n",
       "0           City of London 001  E09000001        City of London   \n",
       "1           City of London 001  E09000001        City of London   \n",
       "2           City of London 001  E09000001        City of London   \n",
       "3           City of London 001  E09000001        City of London   \n",
       "4     Barking and Dagenham 016  E09000002  Barking and Dagenham   \n",
       "...                        ...        ...                   ...   \n",
       "4830             Greenwich 007  E09000011             Greenwich   \n",
       "4831             Greenwich 002  E09000011             Greenwich   \n",
       "4832             Greenwich 007  E09000011             Greenwich   \n",
       "4833             Greenwich 002  E09000011             Greenwich   \n",
       "4834             Greenwich 038  E09000011             Greenwich   \n",
       "\n",
       "                                         area  \\\n",
       "0                                      0.1333   \n",
       "1                                      0.2262   \n",
       "2                                      0.0573   \n",
       "3                                      0.1907   \n",
       "4                                      0.1442   \n",
       "...                                       ...   \n",
       "4830                                   0.1233   \n",
       "4831                                   1.0049   \n",
       "4832                                   0.1523   \n",
       "4833                                   0.5585   \n",
       "4834                                   0.1290   \n",
       "\n",
       "                                          NO2  \\\n",
       "0                                     42.8867   \n",
       "1                                     38.8113   \n",
       "2                                     38.8682   \n",
       "3                                     39.9824   \n",
       "4                                     26.6189   \n",
       "...                                       ...   \n",
       "4830                                  25.5032   \n",
       "4831                                  24.6078   \n",
       "4832                                  26.8511   \n",
       "4833                                  26.4817   \n",
       "4834                                  29.2854   \n",
       "\n",
       "                                          NOx  ...  \\\n",
       "0                                     80.4997  ...   \n",
       "1                                     67.6093  ...   \n",
       "2                                     67.8867  ...   \n",
       "3                                     73.9456  ...   \n",
       "4                                     40.2646  ...   \n",
       "...                                       ...  ...   \n",
       "4830                                  36.8238  ...   \n",
       "4831                                  35.2174  ...   \n",
       "4832                                  41.0677  ...   \n",
       "4833                                  41.0178  ...   \n",
       "4834                                  46.2206  ...   \n",
       "\n",
       "                                      Housing  Housing_R  \\\n",
       "0                                     29.4720          3   \n",
       "1                                     24.4120          4   \n",
       "2                                     40.1030          1   \n",
       "3                                     39.9000          1   \n",
       "4                                     45.1710          1   \n",
       "...                                       ...        ...   \n",
       "4830                                  40.5460          1   \n",
       "4831                                  50.2930          1   \n",
       "4832                                  37.3150          1   \n",
       "4833                                  45.0600          1   \n",
       "4834                                  23.9960          4   \n",
       "\n",
       "                                       Living Living_R  \\\n",
       "0                                     31.8730        3   \n",
       "1                                     23.0840        4   \n",
       "2                                     40.5350        2   \n",
       "3                                     28.9790        3   \n",
       "4                                     26.8880        4   \n",
       "...                                       ...      ...   \n",
       "4830                                  12.5140        7   \n",
       "4831                                  11.9220        7   \n",
       "4832                                  14.1740        7   \n",
       "4833                                  14.8360        6   \n",
       "4834                                  45.7280        1   \n",
       "\n",
       "                                   population  \\\n",
       "0                                  1,636.0000   \n",
       "1                                  1,558.0000   \n",
       "2                                  1,786.0000   \n",
       "3                                  1,888.0000   \n",
       "4                                  2,094.0000   \n",
       "...                                       ...   \n",
       "4830                               1,738.0000   \n",
       "4831                               2,338.0000   \n",
       "4832                               1,815.0000   \n",
       "4833                               2,047.0000   \n",
       "4834                               1,393.0000   \n",
       "\n",
       "                                          old  \\\n",
       "0                                    547.0000   \n",
       "1                                    482.0000   \n",
       "2                                    518.0000   \n",
       "3                                    265.0000   \n",
       "4                                    247.0000   \n",
       "...                                       ...   \n",
       "4830                                 185.0000   \n",
       "4831                                 171.0000   \n",
       "4832                                 119.0000   \n",
       "4833                                 172.0000   \n",
       "4834                                 345.0000   \n",
       "\n",
       "                                   median_age  \\\n",
       "0                                     49.2000   \n",
       "1                                     47.3000   \n",
       "2                                     47.1000   \n",
       "3                                     25.7000   \n",
       "4                                     33.4000   \n",
       "...                                       ...   \n",
       "4830                                  35.0000   \n",
       "4831                                  33.1000   \n",
       "4832                                  33.8000   \n",
       "4833                                  33.4000   \n",
       "4834                                  40.8000   \n",
       "\n",
       "                                         male  \\\n",
       "0                                    886.0000   \n",
       "1                                    815.0000   \n",
       "2                                    931.0000   \n",
       "3                                  1,022.0000   \n",
       "4                                  1,072.0000   \n",
       "...                                       ...   \n",
       "4830                                 943.0000   \n",
       "4831                               1,169.0000   \n",
       "4832                                 967.0000   \n",
       "4833                               1,046.0000   \n",
       "4834                                 649.0000   \n",
       "\n",
       "                                     male_pop  \\\n",
       "0                                      0.5400   \n",
       "1                                      0.5200   \n",
       "2                                      0.5200   \n",
       "3                                      0.5400   \n",
       "4                                      0.5100   \n",
       "...                                       ...   \n",
       "4830                                   0.5400   \n",
       "4831                                   0.5000   \n",
       "4832                                   0.5300   \n",
       "4833                                   0.5100   \n",
       "4834                                   0.4700   \n",
       "\n",
       "                                      old_pop  \n",
       "0                                      0.3300  \n",
       "1                                      0.3100  \n",
       "2                                      0.2900  \n",
       "3                                      0.1400  \n",
       "4                                      0.1200  \n",
       "...                                       ...  \n",
       "4830                                   0.1100  \n",
       "4831                                   0.0700  \n",
       "4832                                   0.0700  \n",
       "4833                                   0.0800  \n",
       "4834                                   0.2500  \n",
       "\n",
       "[4835 rows x 36 columns]"
      ]
     },
     "execution_count": 18,
     "metadata": {},
     "output_type": "execute_result"
    }
   ],
   "source": [
    "LSOA"
   ]
  },
  {
   "cell_type": "markdown",
   "id": "365be6db-9da7-467c-89ae-2f758452e0f0",
   "metadata": {},
   "source": [
    "### The calculate of population density"
   ]
  },
  {
   "cell_type": "code",
   "execution_count": 19,
   "id": "0118dd46-e2bc-4224-a6d0-2437006b5398",
   "metadata": {},
   "outputs": [],
   "source": [
    "LSOA[\"pop_density\"]=LSOA[\"population\"]/LSOA[\"area\"]"
   ]
  },
  {
   "cell_type": "code",
   "execution_count": 20,
   "id": "60a14414-8589-4560-aa48-ce35dc29d306",
   "metadata": {},
   "outputs": [
    {
     "name": "stdout",
     "output_type": "stream",
     "text": [
      "['Unnamed: 0', 'LSOA11CD', 'LSOA11NM', 'MSOA11CD', 'MSOA11NM', 'LAD11CD', 'LAD11NM', 'area', 'NO2', 'NOx', 'PM25', 'PM10', 'AQ', 'LSOA name', 'IMD', 'IMD_R', 'Income', 'Income_R', 'Employment', 'Employment_R', 'Education', 'Education_R', 'Health', 'Health_R', 'Crime', 'Crime_R', 'Housing', 'Housing_R', 'Living', 'Living_R', 'population', 'old', 'median_age', 'male', 'male_pop', 'old_pop', 'pop_density']\n"
     ]
    }
   ],
   "source": [
    "print(list(LSOA.columns.values))"
   ]
  },
  {
   "cell_type": "markdown",
   "id": "88b4d3fe-6f80-4b08-b47c-3ba982b56a22",
   "metadata": {},
   "source": [
    "# Statistical analysis"
   ]
  },
  {
   "cell_type": "markdown",
   "id": "11b21e6a-66f4-4341-ae10-2415963da073",
   "metadata": {},
   "source": [
    "## Correlation analysis"
   ]
  },
  {
   "cell_type": "markdown",
   "id": "04a2b2d7-a449-4397-8f66-147f850f5aba",
   "metadata": {},
   "source": [
    "### Use pairplot to investigate the potential of each variables"
   ]
  },
  {
   "cell_type": "markdown",
   "id": "d92d65a5-c68d-4d5a-a277-a6094d0cf11e",
   "metadata": {},
   "source": [
    "sns.pairplot(df, \n",
    "             vars=corr_col, \n",
    "             markers=\".\", height=3, diag_kind='kde',palette=\"rainbow\")"
   ]
  },
  {
   "cell_type": "markdown",
   "id": "3c434b79-5118-485a-9358-e5c0a3ebb681",
   "metadata": {},
   "source": [
    "### Build the correlation dataset"
   ]
  },
  {
   "cell_type": "code",
   "execution_count": 21,
   "id": "2b2e556d-6a4d-4065-b6a9-f7fc252a886f",
   "metadata": {
    "tags": []
   },
   "outputs": [],
   "source": [
    "corr_col=['AQ',  'Income',  'Employment', 'Education', 'Housing', 'median_age',  'male_pop',\"pop_density\"]"
   ]
  },
  {
   "cell_type": "code",
   "execution_count": 22,
   "id": "bec59387-83df-4d15-ae64-b467787d99b9",
   "metadata": {
    "tags": []
   },
   "outputs": [],
   "source": [
    "LSOA_corr=LSOA[corr_col]"
   ]
  },
  {
   "cell_type": "code",
   "execution_count": 23,
   "id": "f61bf7de-33fe-4489-857b-715239a2d05a",
   "metadata": {},
   "outputs": [
    {
     "data": {
      "image/png": "[encoded data removed]",
      "text/plain": [
       "<Figure size 1080x648 with 2 Axes>"
      ]
     },
     "metadata": {},
     "output_type": "display_data"
    }
   ],
   "source": [
    "# make the correlation matrix\n",
    "df = LSOA_corr\n",
    "\n",
    "RELAT=df.corr()\n",
    "plt.figure(figsize=(15, 9))\n",
    "hm = sns.heatmap(RELAT,\n",
    "                 cbar=True,\n",
    "                 annot=True,\n",
    "                 square=True,\n",
    "                 fmt='.2f',\n",
    "                 annot_kws={'size':12},\n",
    "                 yticklabels=corr_col,\n",
    "                 xticklabels=corr_col,\n",
    "                cmap=\"YlGnBu\",\n",
    "                 linewidths=.5)\n",
    "\n",
    "plt.savefig(os.path.join('output2',\"Correlation matrix\"))\n",
    "plt.show()\n",
    "\n"
   ]
  },
  {
   "cell_type": "markdown",
   "id": "fba2ffd3-04cb-4b6d-adeb-e89aaf984da6",
   "metadata": {},
   "source": [
    "## Regression analysis"
   ]
  },
  {
   "cell_type": "code",
   "execution_count": 24,
   "id": "04f153b6-b16b-48bd-b01e-772a4119d344",
   "metadata": {},
   "outputs": [],
   "source": [
    "### VIF model"
   ]
  },
  {
   "cell_type": "code",
   "execution_count": 25,
   "id": "c7514c8b-b4fb-4003-a490-7808246e71af",
   "metadata": {},
   "outputs": [
    {
     "name": "stdout",
     "output_type": "stream",
     "text": [
      "Dropping: Income\n"
     ]
    },
    {
     "name": "stderr",
     "output_type": "stream",
     "text": [
      "/opt/conda/envs/sds2021/lib/python3.9/site-packages/statsmodels/tsa/tsatools.py:142: FutureWarning: In a future version of pandas all arguments of concat except for the argument 'objs' will be keyword-only\n",
      "  x = pd.concat(x[::order], 1)\n"
     ]
    }
   ],
   "source": [
    "from statsmodels.stats.outliers_influence import variance_inflation_factor \n",
    "from statsmodels.tools.tools import add_constant\n",
    "\n",
    "def drop_column_using_vif_(df, thresh=5):\n",
    "    while True:\n",
    "        df_with_const = add_constant(df)\n",
    "\n",
    "        vif_df = pd.Series([variance_inflation_factor(df_with_const.values, i) \n",
    "               for i in range(df_with_const.shape[1])], name= \"VIF\",\n",
    "              index=df_with_const.columns).to_frame()\n",
    "\n",
    "        vif_df = vif_df.drop('const')\n",
    "        if vif_df.VIF.max() > thresh:\n",
    "            index_to_drop = vif_df.index[vif_df.VIF == vif_df.VIF.max()].tolist()[0]\n",
    "            print('Dropping: {}'.format(index_to_drop))\n",
    "            df = df.drop(columns = index_to_drop)\n",
    "        else:\n",
    "            break\n",
    "\n",
    "    return df\n",
    "model_new = drop_column_using_vif_(LSOA[[\"Income\",\"median_age\",\"male_pop\",\"Housing\",\"Education\",\"pop_density\",\"Employment\"]])"
   ]
  },
  {
   "cell_type": "code",
   "execution_count": 26,
   "id": "335ea262-9105-454f-a0fc-3e6773e19a4a",
   "metadata": {},
   "outputs": [],
   "source": [
    "### Run the first regression model and therefore find the problem about t-test and p-value"
   ]
  },
  {
   "cell_type": "code",
   "execution_count": 27,
   "id": "46b3542d-a20f-4e5a-9bc4-7e9fe88ae17e",
   "metadata": {},
   "outputs": [
    {
     "data": {
      "text/html": [
       "<table class=\"simpletable\">\n",
       "<caption>OLS Regression Results</caption>\n",
       "<tr>\n",
       "  <th>Dep. Variable:</th>           <td>AQ</td>        <th>  R-squared:         </th> <td>   0.514</td> \n",
       "</tr>\n",
       "<tr>\n",
       "  <th>Model:</th>                   <td>OLS</td>       <th>  Adj. R-squared:    </th> <td>   0.514</td> \n",
       "</tr>\n",
       "<tr>\n",
       "  <th>Method:</th>             <td>Least Squares</td>  <th>  F-statistic:       </th> <td>   852.2</td> \n",
       "</tr>\n",
       "<tr>\n",
       "  <th>Date:</th>             <td>Tue, 18 Jan 2022</td> <th>  Prob (F-statistic):</th>  <td>  0.00</td>  \n",
       "</tr>\n",
       "<tr>\n",
       "  <th>Time:</th>                 <td>13:26:23</td>     <th>  Log-Likelihood:    </th> <td> -22066.</td> \n",
       "</tr>\n",
       "<tr>\n",
       "  <th>No. Observations:</th>      <td>  4835</td>      <th>  AIC:               </th> <td>4.415e+04</td>\n",
       "</tr>\n",
       "<tr>\n",
       "  <th>Df Residuals:</th>          <td>  4828</td>      <th>  BIC:               </th> <td>4.419e+04</td>\n",
       "</tr>\n",
       "<tr>\n",
       "  <th>Df Model:</th>              <td>     6</td>      <th>                     </th>     <td> </td>    \n",
       "</tr>\n",
       "<tr>\n",
       "  <th>Covariance Type:</th>      <td>nonrobust</td>    <th>                     </th>     <td> </td>    \n",
       "</tr>\n",
       "</table>\n",
       "<table class=\"simpletable\">\n",
       "<tr>\n",
       "       <td></td>          <th>coef</th>     <th>std err</th>      <th>t</th>      <th>P>|t|</th>  <th>[0.025</th>    <th>0.975]</th>  \n",
       "</tr>\n",
       "<tr>\n",
       "  <th>Intercept</th>   <td>  318.7511</td> <td>    8.340</td> <td>   38.219</td> <td> 0.000</td> <td>  302.401</td> <td>  335.101</td>\n",
       "</tr>\n",
       "<tr>\n",
       "  <th>Income</th>      <td> -149.4483</td> <td>    7.568</td> <td>  -19.749</td> <td> 0.000</td> <td> -164.284</td> <td> -134.613</td>\n",
       "</tr>\n",
       "<tr>\n",
       "  <th>Housing</th>     <td>    0.0443</td> <td>    0.044</td> <td>    1.010</td> <td> 0.312</td> <td>   -0.042</td> <td>    0.130</td>\n",
       "</tr>\n",
       "<tr>\n",
       "  <th>Education</th>   <td>    1.5529</td> <td>    0.050</td> <td>   31.355</td> <td> 0.000</td> <td>    1.456</td> <td>    1.650</td>\n",
       "</tr>\n",
       "<tr>\n",
       "  <th>median_age</th>  <td>    2.1545</td> <td>    0.093</td> <td>   23.215</td> <td> 0.000</td> <td>    1.973</td> <td>    2.336</td>\n",
       "</tr>\n",
       "<tr>\n",
       "  <th>male_pop</th>    <td> -218.8205</td> <td>   13.729</td> <td>  -15.939</td> <td> 0.000</td> <td> -245.735</td> <td> -191.906</td>\n",
       "</tr>\n",
       "<tr>\n",
       "  <th>pop_density</th> <td>   -0.0015</td> <td> 5.75e-05</td> <td>  -26.332</td> <td> 0.000</td> <td>   -0.002</td> <td>   -0.001</td>\n",
       "</tr>\n",
       "</table>\n",
       "<table class=\"simpletable\">\n",
       "<tr>\n",
       "  <th>Omnibus:</th>       <td>257.491</td> <th>  Durbin-Watson:     </th> <td>   0.929</td> \n",
       "</tr>\n",
       "<tr>\n",
       "  <th>Prob(Omnibus):</th> <td> 0.000</td>  <th>  Jarque-Bera (JB):  </th> <td> 538.856</td> \n",
       "</tr>\n",
       "<tr>\n",
       "  <th>Skew:</th>          <td>-0.363</td>  <th>  Prob(JB):          </th> <td>9.75e-118</td>\n",
       "</tr>\n",
       "<tr>\n",
       "  <th>Kurtosis:</th>      <td> 4.465</td>  <th>  Cond. No.          </th> <td>5.97e+05</td> \n",
       "</tr>\n",
       "</table><br/><br/>Notes:<br/>[1] Standard Errors assume that the covariance matrix of the errors is correctly specified.<br/>[2] The condition number is large, 5.97e+05. This might indicate that there are<br/>strong multicollinearity or other numerical problems."
      ],
      "text/plain": [
       "<class 'statsmodels.iolib.summary.Summary'>\n",
       "\"\"\"\n",
       "                            OLS Regression Results                            \n",
       "==============================================================================\n",
       "Dep. Variable:                     AQ   R-squared:                       0.514\n",
       "Model:                            OLS   Adj. R-squared:                  0.514\n",
       "Method:                 Least Squares   F-statistic:                     852.2\n",
       "Date:                Tue, 18 Jan 2022   Prob (F-statistic):               0.00\n",
       "Time:                        13:26:23   Log-Likelihood:                -22066.\n",
       "No. Observations:                4835   AIC:                         4.415e+04\n",
       "Df Residuals:                    4828   BIC:                         4.419e+04\n",
       "Df Model:                           6                                         \n",
       "Covariance Type:            nonrobust                                         \n",
       "===============================================================================\n",
       "                  coef    std err          t      P>|t|      [0.025      0.975]\n",
       "-------------------------------------------------------------------------------\n",
       "Intercept     318.7511      8.340     38.219      0.000     302.401     335.101\n",
       "Income       -149.4483      7.568    -19.749      0.000    -164.284    -134.613\n",
       "Housing         0.0443      0.044      1.010      0.312      -0.042       0.130\n",
       "Education       1.5529      0.050     31.355      0.000       1.456       1.650\n",
       "median_age      2.1545      0.093     23.215      0.000       1.973       2.336\n",
       "male_pop     -218.8205     13.729    -15.939      0.000    -245.735    -191.906\n",
       "pop_density    -0.0015   5.75e-05    -26.332      0.000      -0.002      -0.001\n",
       "==============================================================================\n",
       "Omnibus:                      257.491   Durbin-Watson:                   0.929\n",
       "Prob(Omnibus):                  0.000   Jarque-Bera (JB):              538.856\n",
       "Skew:                          -0.363   Prob(JB):                    9.75e-118\n",
       "Kurtosis:                       4.465   Cond. No.                     5.97e+05\n",
       "==============================================================================\n",
       "\n",
       "Notes:\n",
       "[1] Standard Errors assume that the covariance matrix of the errors is correctly specified.\n",
       "[2] The condition number is large, 5.97e+05. This might indicate that there are\n",
       "strong multicollinearity or other numerical problems.\n",
       "\"\"\""
      ]
     },
     "execution_count": 27,
     "metadata": {},
     "output_type": "execute_result"
    }
   ],
   "source": [
    "model1 = sm.formula.ols(\"AQ ~Income+Housing+Education+median_age+male_pop+pop_density\", LSOA).fit()\n",
    "model1.summary()"
   ]
  },
  {
   "cell_type": "code",
   "execution_count": null,
   "id": "36440158-0103-4587-8b54-c91a05582a85",
   "metadata": {},
   "outputs": [],
   "source": []
  },
  {
   "cell_type": "markdown",
   "id": "fc4f999b-b96c-483f-aed1-e589dba13bc3",
   "metadata": {},
   "source": [
    "### Run the second regression model and residual plot and find outlier"
   ]
  },
  {
   "cell_type": "code",
   "execution_count": 28,
   "id": "a6fd2632-00a5-4995-8acf-b00b667a9c6f",
   "metadata": {
    "tags": []
   },
   "outputs": [
    {
     "data": {
      "text/html": [
       "<table class=\"simpletable\">\n",
       "<caption>OLS Regression Results</caption>\n",
       "<tr>\n",
       "  <th>Dep. Variable:</th>           <td>AQ</td>        <th>  R-squared:         </th> <td>   0.514</td> \n",
       "</tr>\n",
       "<tr>\n",
       "  <th>Model:</th>                   <td>OLS</td>       <th>  Adj. R-squared:    </th> <td>   0.514</td> \n",
       "</tr>\n",
       "<tr>\n",
       "  <th>Method:</th>             <td>Least Squares</td>  <th>  F-statistic:       </th> <td>   1022.</td> \n",
       "</tr>\n",
       "<tr>\n",
       "  <th>Date:</th>             <td>Tue, 18 Jan 2022</td> <th>  Prob (F-statistic):</th>  <td>  0.00</td>  \n",
       "</tr>\n",
       "<tr>\n",
       "  <th>Time:</th>                 <td>13:26:23</td>     <th>  Log-Likelihood:    </th> <td> -22067.</td> \n",
       "</tr>\n",
       "<tr>\n",
       "  <th>No. Observations:</th>      <td>  4835</td>      <th>  AIC:               </th> <td>4.415e+04</td>\n",
       "</tr>\n",
       "<tr>\n",
       "  <th>Df Residuals:</th>          <td>  4829</td>      <th>  BIC:               </th> <td>4.418e+04</td>\n",
       "</tr>\n",
       "<tr>\n",
       "  <th>Df Model:</th>              <td>     5</td>      <th>                     </th>     <td> </td>    \n",
       "</tr>\n",
       "<tr>\n",
       "  <th>Covariance Type:</th>      <td>nonrobust</td>    <th>                     </th>     <td> </td>    \n",
       "</tr>\n",
       "</table>\n",
       "<table class=\"simpletable\">\n",
       "<tr>\n",
       "       <td></td>          <th>coef</th>     <th>std err</th>      <th>t</th>      <th>P>|t|</th>  <th>[0.025</th>    <th>0.975]</th>  \n",
       "</tr>\n",
       "<tr>\n",
       "  <th>Intercept</th>   <td>  318.6687</td> <td>    8.340</td> <td>   38.211</td> <td> 0.000</td> <td>  302.319</td> <td>  335.018</td>\n",
       "</tr>\n",
       "<tr>\n",
       "  <th>Income</th>      <td> -146.6707</td> <td>    7.050</td> <td>  -20.803</td> <td> 0.000</td> <td> -160.493</td> <td> -132.849</td>\n",
       "</tr>\n",
       "<tr>\n",
       "  <th>median_age</th>  <td>    2.1395</td> <td>    0.092</td> <td>   23.354</td> <td> 0.000</td> <td>    1.960</td> <td>    2.319</td>\n",
       "</tr>\n",
       "<tr>\n",
       "  <th>male_pop</th>    <td> -215.3682</td> <td>   13.297</td> <td>  -16.197</td> <td> 0.000</td> <td> -241.436</td> <td> -189.300</td>\n",
       "</tr>\n",
       "<tr>\n",
       "  <th>Education</th>   <td>    1.5564</td> <td>    0.049</td> <td>   31.503</td> <td> 0.000</td> <td>    1.460</td> <td>    1.653</td>\n",
       "</tr>\n",
       "<tr>\n",
       "  <th>pop_density</th> <td>   -0.0015</td> <td> 5.66e-05</td> <td>  -26.931</td> <td> 0.000</td> <td>   -0.002</td> <td>   -0.001</td>\n",
       "</tr>\n",
       "</table>\n",
       "<table class=\"simpletable\">\n",
       "<tr>\n",
       "  <th>Omnibus:</th>       <td>257.716</td> <th>  Durbin-Watson:     </th> <td>   0.928</td> \n",
       "</tr>\n",
       "<tr>\n",
       "  <th>Prob(Omnibus):</th> <td> 0.000</td>  <th>  Jarque-Bera (JB):  </th> <td> 544.771</td> \n",
       "</tr>\n",
       "<tr>\n",
       "  <th>Skew:</th>          <td>-0.361</td>  <th>  Prob(JB):          </th> <td>5.06e-119</td>\n",
       "</tr>\n",
       "<tr>\n",
       "  <th>Kurtosis:</th>      <td> 4.478</td>  <th>  Cond. No.          </th> <td>5.83e+05</td> \n",
       "</tr>\n",
       "</table><br/><br/>Notes:<br/>[1] Standard Errors assume that the covariance matrix of the errors is correctly specified.<br/>[2] The condition number is large, 5.83e+05. This might indicate that there are<br/>strong multicollinearity or other numerical problems."
      ],
      "text/plain": [
       "<class 'statsmodels.iolib.summary.Summary'>\n",
       "\"\"\"\n",
       "                            OLS Regression Results                            \n",
       "==============================================================================\n",
       "Dep. Variable:                     AQ   R-squared:                       0.514\n",
       "Model:                            OLS   Adj. R-squared:                  0.514\n",
       "Method:                 Least Squares   F-statistic:                     1022.\n",
       "Date:                Tue, 18 Jan 2022   Prob (F-statistic):               0.00\n",
       "Time:                        13:26:23   Log-Likelihood:                -22067.\n",
       "No. Observations:                4835   AIC:                         4.415e+04\n",
       "Df Residuals:                    4829   BIC:                         4.418e+04\n",
       "Df Model:                           5                                         \n",
       "Covariance Type:            nonrobust                                         \n",
       "===============================================================================\n",
       "                  coef    std err          t      P>|t|      [0.025      0.975]\n",
       "-------------------------------------------------------------------------------\n",
       "Intercept     318.6687      8.340     38.211      0.000     302.319     335.018\n",
       "Income       -146.6707      7.050    -20.803      0.000    -160.493    -132.849\n",
       "median_age      2.1395      0.092     23.354      0.000       1.960       2.319\n",
       "male_pop     -215.3682     13.297    -16.197      0.000    -241.436    -189.300\n",
       "Education       1.5564      0.049     31.503      0.000       1.460       1.653\n",
       "pop_density    -0.0015   5.66e-05    -26.931      0.000      -0.002      -0.001\n",
       "==============================================================================\n",
       "Omnibus:                      257.716   Durbin-Watson:                   0.928\n",
       "Prob(Omnibus):                  0.000   Jarque-Bera (JB):              544.771\n",
       "Skew:                          -0.361   Prob(JB):                    5.06e-119\n",
       "Kurtosis:                       4.478   Cond. No.                     5.83e+05\n",
       "==============================================================================\n",
       "\n",
       "Notes:\n",
       "[1] Standard Errors assume that the covariance matrix of the errors is correctly specified.\n",
       "[2] The condition number is large, 5.83e+05. This might indicate that there are\n",
       "strong multicollinearity or other numerical problems.\n",
       "\"\"\""
      ]
     },
     "execution_count": 28,
     "metadata": {},
     "output_type": "execute_result"
    }
   ],
   "source": [
    "model2 = sm.formula.ols(\"AQ ~Income+median_age+male_pop++Education+pop_density\", LSOA).fit()\n",
    "model2.summary()"
   ]
  },
  {
   "cell_type": "code",
   "execution_count": 29,
   "id": "ec6a4bb7-aa48-4549-92f8-5c6698d2c0ab",
   "metadata": {},
   "outputs": [
    {
     "data": {
      "text/plain": [
       "Text(0, 0.5, 'Residual')"
      ]
     },
     "execution_count": 29,
     "metadata": {},
     "output_type": "execute_result"
    },
    {
     "data": {
      "image/png": "[encoded data removed]",
      "text/plain": [
       "<Figure size 432x288 with 1 Axes>"
      ]
     },
     "metadata": {},
     "output_type": "display_data"
    }
   ],
   "source": [
    "plt.scatter(model2.fittedvalues, model1.resid,color=\"red\")\n",
    "plt.hlines(0,100,500,color=\"black\",linestyles=\"--\")\n",
    "plt.xlabel('Air quality')\n",
    "plt.ylabel('Residual')\n",
    "# plt.savefig(os.path.join('output2',\"Residual plot (origin)\"))"
   ]
  },
  {
   "cell_type": "markdown",
   "id": "d1465c58-1297-40d4-ab69-2ceb94a75b53",
   "metadata": {},
   "source": [
    "## Drop the outlier according to the residual and use the new data to run the model"
   ]
  },
  {
   "cell_type": "code",
   "execution_count": 30,
   "id": "450e45d7-26de-4841-a7b2-07134fc9aced",
   "metadata": {},
   "outputs": [],
   "source": [
    "resid=model1.resid"
   ]
  },
  {
   "cell_type": "code",
   "execution_count": 31,
   "id": "d3f15448-7a69-44c9-9c72-22ea709b4b0a",
   "metadata": {},
   "outputs": [
    {
     "data": {
      "text/plain": [
       "172.68756316622574"
      ]
     },
     "execution_count": 31,
     "metadata": {},
     "output_type": "execute_result"
    }
   ],
   "source": [
    "max(resid)"
   ]
  },
  {
   "cell_type": "code",
   "execution_count": 32,
   "id": "cc092080-1aa0-4755-bb01-1b5c30217475",
   "metadata": {},
   "outputs": [],
   "source": [
    "LSOA_drop=df.drop(LSOA[LSOA.LSOA11CD==\"E01032773\"].index)"
   ]
  },
  {
   "cell_type": "markdown",
   "id": "2e09abab-aa47-4686-9a84-cb8f67d640ef",
   "metadata": {},
   "source": [
    "### Run the optimized regression model and get the final result"
   ]
  },
  {
   "cell_type": "code",
   "execution_count": 33,
   "id": "b8e88c79-20bd-4459-a400-40061e515770",
   "metadata": {},
   "outputs": [
    {
     "data": {
      "text/html": [
       "<table class=\"simpletable\">\n",
       "<caption>OLS Regression Results</caption>\n",
       "<tr>\n",
       "  <th>Dep. Variable:</th>           <td>AQ</td>        <th>  R-squared:         </th> <td>   0.520</td> \n",
       "</tr>\n",
       "<tr>\n",
       "  <th>Model:</th>                   <td>OLS</td>       <th>  Adj. R-squared:    </th> <td>   0.520</td> \n",
       "</tr>\n",
       "<tr>\n",
       "  <th>Method:</th>             <td>Least Squares</td>  <th>  F-statistic:       </th> <td>   1047.</td> \n",
       "</tr>\n",
       "<tr>\n",
       "  <th>Date:</th>             <td>Tue, 18 Jan 2022</td> <th>  Prob (F-statistic):</th>  <td>  0.00</td>  \n",
       "</tr>\n",
       "<tr>\n",
       "  <th>Time:</th>                 <td>13:26:23</td>     <th>  Log-Likelihood:    </th> <td> -22033.</td> \n",
       "</tr>\n",
       "<tr>\n",
       "  <th>No. Observations:</th>      <td>  4834</td>      <th>  AIC:               </th> <td>4.408e+04</td>\n",
       "</tr>\n",
       "<tr>\n",
       "  <th>Df Residuals:</th>          <td>  4828</td>      <th>  BIC:               </th> <td>4.412e+04</td>\n",
       "</tr>\n",
       "<tr>\n",
       "  <th>Df Model:</th>              <td>     5</td>      <th>                     </th>     <td> </td>    \n",
       "</tr>\n",
       "<tr>\n",
       "  <th>Covariance Type:</th>      <td>nonrobust</td>    <th>                     </th>     <td> </td>    \n",
       "</tr>\n",
       "</table>\n",
       "<table class=\"simpletable\">\n",
       "<tr>\n",
       "       <td></td>          <th>coef</th>     <th>std err</th>      <th>t</th>      <th>P>|t|</th>  <th>[0.025</th>    <th>0.975]</th>  \n",
       "</tr>\n",
       "<tr>\n",
       "  <th>Intercept</th>   <td>  323.1011</td> <td>    8.309</td> <td>   38.884</td> <td> 0.000</td> <td>  306.811</td> <td>  339.391</td>\n",
       "</tr>\n",
       "<tr>\n",
       "  <th>Income</th>      <td> -143.6460</td> <td>    7.019</td> <td>  -20.465</td> <td> 0.000</td> <td> -157.406</td> <td> -129.886</td>\n",
       "</tr>\n",
       "<tr>\n",
       "  <th>median_age</th>  <td>    2.0840</td> <td>    0.091</td> <td>   22.814</td> <td> 0.000</td> <td>    1.905</td> <td>    2.263</td>\n",
       "</tr>\n",
       "<tr>\n",
       "  <th>male_pop</th>    <td> -218.4988</td> <td>   13.223</td> <td>  -16.524</td> <td> 0.000</td> <td> -244.422</td> <td> -192.576</td>\n",
       "</tr>\n",
       "<tr>\n",
       "  <th>Education</th>   <td>    1.5357</td> <td>    0.049</td> <td>   31.225</td> <td> 0.000</td> <td>    1.439</td> <td>    1.632</td>\n",
       "</tr>\n",
       "<tr>\n",
       "  <th>pop_density</th> <td>   -0.0016</td> <td> 5.76e-05</td> <td>  -28.123</td> <td> 0.000</td> <td>   -0.002</td> <td>   -0.002</td>\n",
       "</tr>\n",
       "</table>\n",
       "<table class=\"simpletable\">\n",
       "<tr>\n",
       "  <th>Omnibus:</th>       <td>231.647</td> <th>  Durbin-Watson:     </th> <td>   0.935</td>\n",
       "</tr>\n",
       "<tr>\n",
       "  <th>Prob(Omnibus):</th> <td> 0.000</td>  <th>  Jarque-Bera (JB):  </th> <td> 330.674</td>\n",
       "</tr>\n",
       "<tr>\n",
       "  <th>Skew:</th>          <td>-0.446</td>  <th>  Prob(JB):          </th> <td>1.57e-72</td>\n",
       "</tr>\n",
       "<tr>\n",
       "  <th>Kurtosis:</th>      <td> 3.919</td>  <th>  Cond. No.          </th> <td>5.80e+05</td>\n",
       "</tr>\n",
       "</table><br/><br/>Notes:<br/>[1] Standard Errors assume that the covariance matrix of the errors is correctly specified.<br/>[2] The condition number is large, 5.8e+05. This might indicate that there are<br/>strong multicollinearity or other numerical problems."
      ],
      "text/plain": [
       "<class 'statsmodels.iolib.summary.Summary'>\n",
       "\"\"\"\n",
       "                            OLS Regression Results                            \n",
       "==============================================================================\n",
       "Dep. Variable:                     AQ   R-squared:                       0.520\n",
       "Model:                            OLS   Adj. R-squared:                  0.520\n",
       "Method:                 Least Squares   F-statistic:                     1047.\n",
       "Date:                Tue, 18 Jan 2022   Prob (F-statistic):               0.00\n",
       "Time:                        13:26:23   Log-Likelihood:                -22033.\n",
       "No. Observations:                4834   AIC:                         4.408e+04\n",
       "Df Residuals:                    4828   BIC:                         4.412e+04\n",
       "Df Model:                           5                                         \n",
       "Covariance Type:            nonrobust                                         \n",
       "===============================================================================\n",
       "                  coef    std err          t      P>|t|      [0.025      0.975]\n",
       "-------------------------------------------------------------------------------\n",
       "Intercept     323.1011      8.309     38.884      0.000     306.811     339.391\n",
       "Income       -143.6460      7.019    -20.465      0.000    -157.406    -129.886\n",
       "median_age      2.0840      0.091     22.814      0.000       1.905       2.263\n",
       "male_pop     -218.4988     13.223    -16.524      0.000    -244.422    -192.576\n",
       "Education       1.5357      0.049     31.225      0.000       1.439       1.632\n",
       "pop_density    -0.0016   5.76e-05    -28.123      0.000      -0.002      -0.002\n",
       "==============================================================================\n",
       "Omnibus:                      231.647   Durbin-Watson:                   0.935\n",
       "Prob(Omnibus):                  0.000   Jarque-Bera (JB):              330.674\n",
       "Skew:                          -0.446   Prob(JB):                     1.57e-72\n",
       "Kurtosis:                       3.919   Cond. No.                     5.80e+05\n",
       "==============================================================================\n",
       "\n",
       "Notes:\n",
       "[1] Standard Errors assume that the covariance matrix of the errors is correctly specified.\n",
       "[2] The condition number is large, 5.8e+05. This might indicate that there are\n",
       "strong multicollinearity or other numerical problems.\n",
       "\"\"\""
      ]
     },
     "execution_count": 33,
     "metadata": {},
     "output_type": "execute_result"
    }
   ],
   "source": [
    "model3 = sm.formula.ols(\"AQ ~Income+median_age+male_pop++Education+pop_density\", LSOA_drop).fit()\n",
    "model3.summary()"
   ]
  },
  {
   "cell_type": "code",
   "execution_count": 34,
   "id": "841c2168-3abc-4723-b8e1-187309d98d35",
   "metadata": {},
   "outputs": [
    {
     "data": {
      "text/plain": [
       "Text(0, 0.5, 'Residual')"
      ]
     },
     "execution_count": 34,
     "metadata": {},
     "output_type": "execute_result"
    },
    {
     "data": {
      "image/png": "[encoded data removed]",
      "text/plain": [
       "<Figure size 432x288 with 1 Axes>"
      ]
     },
     "metadata": {},
     "output_type": "display_data"
    }
   ],
   "source": [
    "plt.scatter(model3.fittedvalues, model3.resid)\n",
    "plt.hlines(0,100,500,color=\"black\",linestyles=\"--\")\n",
    "plt.xlabel('Air quality')\n",
    "plt.ylabel('Residual')\n",
    "# plt.savefig(os.path.join('output2',\"Residual plot (optimized)\"))"
   ]
  },
  {
   "cell_type": "markdown",
   "id": "236c81a8-fb6f-41ae-a351-fb5492107af5",
   "metadata": {},
   "source": [
    "## Cluster analysis"
   ]
  },
  {
   "cell_type": "markdown",
   "id": "640e35a3-652e-40a4-a5f8-87d552fa67e4",
   "metadata": {},
   "source": [
    "### Select variables and use max-min normalization method"
   ]
  },
  {
   "cell_type": "code",
   "execution_count": 35,
   "id": "0d1abff9-f3cf-4d19-921d-6b8e8de0a794",
   "metadata": {},
   "outputs": [],
   "source": [
    "LSOA[\"AQ_NOR\"]=(LSOA[\"AQ\"]-min(LSOA[\"AQ\"]))/(max(LSOA[\"AQ\"])-min(LSOA[\"AQ\"]))\n",
    "LSOA[\"Income_NOR\"]=(LSOA[\"Income\"]-min(LSOA[\"Income\"]))/(max(LSOA[\"Income\"])-min(LSOA[\"Income\"]))\n",
    "LSOA[\"Education_NOR\"]=(LSOA[\"Education\"]-min(LSOA[\"Education\"]))/(max(LSOA[\"Education\"])-min(LSOA[\"Education\"]))"
   ]
  },
  {
   "cell_type": "markdown",
   "id": "9e6f3616-4e55-4280-9ff0-d546933ce7d1",
   "metadata": {
    "tags": []
   },
   "source": [
    "### Construct cluster dataset "
   ]
  },
  {
   "cell_type": "code",
   "execution_count": 36,
   "id": "0bf819fc-222f-48dc-ad78-f59d217f2d72",
   "metadata": {},
   "outputs": [
    {
     "name": "stderr",
     "output_type": "stream",
     "text": [
      "/opt/conda/envs/sds2021/lib/python3.9/site-packages/pandas/core/frame.py:3607: SettingWithCopyWarning: \n",
      "A value is trying to be set on a copy of a slice from a DataFrame.\n",
      "Try using .loc[row_indexer,col_indexer] = value instead\n",
      "\n",
      "See the caveats in the documentation: https://pandas.pydata.org/pandas-docs/stable/user_guide/indexing.html#returning-a-view-versus-a-copy\n",
      "  self._set_item(key, value)\n"
     ]
    }
   ],
   "source": [
    "Cluster=LSOA[[\"Education_NOR\",\"AQ_NOR\",\"Income_NOR\"]]\n",
    "Cluster[\"Education\"]=Cluster[\"Education_NOR\"]\n",
    "Cluster[\"AQ\"]=Cluster[\"AQ_NOR\"]\n",
    "Cluster[\"Income\"]=Cluster[\"Income_NOR\"]\n",
    "Cluster=Cluster[[\"Education\",\"AQ\",\"Income\"]]"
   ]
  },
  {
   "cell_type": "markdown",
   "id": "65ba1a0f-5adb-4df3-a0d0-7154e55b58f2",
   "metadata": {},
   "source": [
    "### Do hierarchical clustering and make dendrogram"
   ]
  },
  {
   "cell_type": "code",
   "execution_count": null,
   "id": "a8056cd3-3687-4c96-b35e-e0a3a03f9700",
   "metadata": {
    "tags": []
   },
   "outputs": [
    {
     "data": {
      "text/plain": [
       "<matplotlib.lines.Line2D at 0x7efe81549340>"
      ]
     },
     "execution_count": 37,
     "metadata": {},
     "output_type": "execute_result"
    }
   ],
   "source": [
    "import scipy.cluster.hierarchy as shc\n",
    "\n",
    "\n",
    "plt.figure(figsize=(10, 7))\n",
    "\n",
    "# plt.title(\"Dendrograms\")\n",
    "\n",
    "dend = shc.dendrogram(shc.linkage(Cluster, method='ward'))\n",
    "\n",
    "plt.axhline(y=3.5, color='r', linestyle='--')\n",
    "# plt.savefig(os.path.join('output2',\"dendrogram\"))\n"
   ]
  },
  {
   "cell_type": "markdown",
   "id": "2494f92a-9464-4f80-8f55-d61851b80d20",
   "metadata": {},
   "source": [
    "### Choose 8 cluster and do the cluster analysis"
   ]
  },
  {
   "cell_type": "code",
   "execution_count": null,
   "id": "796fea09-93b0-4f0e-bd9e-7b88d5273ce0",
   "metadata": {},
   "outputs": [],
   "source": [
    "from sklearn.cluster import AgglomerativeClustering\n",
    "\n",
    "cluster = AgglomerativeClustering(n_clusters=8, affinity='euclidean', linkage='ward')\n",
    "\n",
    "Cluster[\"clu\"]=cluster.fit_predict(Cluster)"
   ]
  },
  {
   "cell_type": "code",
   "execution_count": null,
   "id": "467c4dab-bf70-4a41-9295-1437bdda759e",
   "metadata": {},
   "outputs": [],
   "source": [
    "Cluster[\"Cluster\"]=Cluster[\"clu\"]"
   ]
  },
  {
   "cell_type": "markdown",
   "id": "32de7cdf-f839-42fd-805d-29c2e2af734a",
   "metadata": {
    "tags": []
   },
   "source": [
    "### Use pairplot to observe the distribution of clusters"
   ]
  },
  {
   "cell_type": "code",
   "execution_count": null,
   "id": "5737f85c-8e28-4fb9-861e-52b212422986",
   "metadata": {},
   "outputs": [],
   "source": [
    "sns.set(style=\"white\")\n",
    "sns.pairplot(Cluster, \n",
    "             vars=[\"Income\",\"Education\",\"AQ\"], \n",
    "             hue=\"Cluster\", markers=\".\", height=3, diag_kind='kde',palette=\"Accent\")\n",
    "# plt.savefig(os.path.join('output2',\"Cluster analysis\"))"
   ]
  },
  {
   "cell_type": "markdown",
   "id": "5d329c80-6bec-45d0-bdb2-e1725c6d767b",
   "metadata": {},
   "source": [
    "### Make the cluster analysis map to see the spatial distribution of each cluster"
   ]
  },
  {
   "cell_type": "code",
   "execution_count": null,
   "id": "2c372712-64fc-4329-b909-cd3ac842dd65",
   "metadata": {},
   "outputs": [],
   "source": [
    "map=Cluster[\"clu\"]\n",
    "District=districts.join(map)"
   ]
  },
  {
   "cell_type": "code",
   "execution_count": null,
   "id": "19fee83c-f88b-4ecf-ad94-11845f297642",
   "metadata": {},
   "outputs": [],
   "source": [
    "District= District.to_crs(\"EPSG:4326\")"
   ]
  },
  {
   "cell_type": "code",
   "execution_count": null,
   "id": "f2de4a10-6130-4703-a8cc-37ce1b2b243f",
   "metadata": {
    "tags": []
   },
   "outputs": [],
   "source": [
    "District.plot(\"clu\",linewidth=0.2, zorder=0,figsize=(15, 10), categorical=True,legend=True,cmap='Paired')\n",
    "\n",
    "# plt.savefig(os.path.join('output2',\"Cluster analysis map\"))"
   ]
  }
 ],
 "metadata": {
  "kernelspec": {
   "display_name": "Python 3 (ipykernel)",
   "language": "python",
   "name": "python3"
  },
  "language_info": {
   "codemirror_mode": {
    "name": "ipython",
    "version": 3
   },
   "file_extension": ".py",
   "mimetype": "text/x-python",
   "name": "python",
   "nbconvert_exporter": "python",
   "pygments_lexer": "ipython3",
   "version": "3.9.6"
  }
 },
 "nbformat": 4,
 "nbformat_minor": 5
}
